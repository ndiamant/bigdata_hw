{
 "cells": [
  {
   "cell_type": "code",
   "execution_count": 34,
   "metadata": {
    "collapsed": false
   },
   "outputs": [],
   "source": [
    "import numpy as np\n",
    "import pandas as pd\n",
    "import matplotlib.pylab as plt\n",
    "from nltk.corpus import reuters\n",
    "from sklearn.feature_extraction import text\n",
    "%matplotlib inline"
   ]
  },
  {
   "cell_type": "code",
   "execution_count": 35,
   "metadata": {
    "collapsed": false
   },
   "outputs": [],
   "source": [
    "# Data import curtesy Conner\n",
    "# How it works: For each file id in the nltk reuters corpus,\n",
    "# get the words in that file and separate them by spaces and \n",
    "# make them lower case. This yields an array of text documents\n",
    "X = np.array([\" \".join(list(reuters.words(file_id))).lower()\n",
    "              for file_id in reuters.fileids()])\n",
    "\n",
    "# Convert to sparse matrix of s where a row is a document's frequency vector\n",
    "tfidf = text.TfidfVectorizer()\n",
    "X = tfidf.fit_transform(X)\n",
    "\n",
    "# get labels\n",
    "labels = np.array(tfidf.get_feature_names())"
   ]
  },
  {
   "cell_type": "code",
   "execution_count": 38,
   "metadata": {
    "collapsed": false
   },
   "outputs": [],
   "source": [
    "def objective(V, W, h):\n",
    "    \"\"\"\n",
    "    Frobenius norm of V - WH\n",
    "    \"\"\"\n",
    "    return np.linalg.norm(v - w @ h, ord = 'fro')\n",
    "\n",
    "def matrix_decompose(V, k, iters):\n",
    "    W = np.abs(np.random.randn(V.shape[0], k))\n",
    "    H = np.abs(np.random.randn(k, V.shape[1]))\n",
    "    \n",
    "    objectives = [objective(V, W, H)]\n",
    "    for i in range(iters):\n",
    "        Wc = W.copy()\n",
    "        W *= (V @ H.T) / (W @ (H @ H.T))\n",
    "        H *= (Wc.T @ V) / (Wc.T @ Wc @ H)\n",
    "              \n",
    "        obj = objective(V, W, H)\n",
    "        if i % (iters/5) == 0:\n",
    "            print(obj)\n",
    "        objectives.append(obj)\n",
    "        \n",
    "    return W, H, objectives"
   ]
  },
  {
   "cell_type": "code",
   "execution_count": 39,
   "metadata": {
    "collapsed": false,
    "scrolled": true
   },
   "outputs": [
    {
     "name": "stdout",
     "output_type": "stream",
     "text": [
      "103.865199957\n",
      "1753238.90568\n",
      "103.865173906\n",
      "1999813.86736\n",
      "103.865116653\n"
     ]
    }
   ],
   "source": [
    "W,H,objs = matrix_decompose(X, 20, 5)"
   ]
  },
  {
   "cell_type": "code",
   "execution_count": 28,
   "metadata": {
    "collapsed": false
   },
   "outputs": [
    {
     "data": {
      "text/plain": [
       "[<matplotlib.lines.Line2D at 0x7ff736f4d9e8>]"
      ]
     },
     "execution_count": 28,
     "metadata": {},
     "output_type": "execute_result"
    },
    {
     "data": {
      "image/png": "[encoded data removed]",
      "text/plain": [
       "<matplotlib.figure.Figure at 0x7ff736f21630>"
      ]
     },
     "metadata": {},
     "output_type": "display_data"
    }
   ],
   "source": [
    "# plot objective\n",
    "plt.plot(objs)"
   ]
  },
  {
   "cell_type": "code",
   "execution_count": 139,
   "metadata": {
    "collapsed": false
   },
   "outputs": [
    {
     "name": "stdout",
     "output_type": "stream",
     "text": [
      "[['net' 'dlrs' 'loss' '000' 'vs']\n",
      " ['said' 'cts' 'in' 'the' 'of']\n",
      " ['dlrs' 'loss' 'vs' '000' 'net']\n",
      " ['lt' 'mln' 'net' 'vs' 'cts']\n",
      " ['said' 'in' 'to' 'mln' 'and']\n",
      " ['in' 'the' 'said' 'of' 'to']\n",
      " ['and' 'year' 'the' 'to' 'in']\n",
      " ['mln' 'from' 'in' 'to' 'the']\n",
      " ['on' 'in' 'the' 'of' 'said']\n",
      " ['pct' 'in' 'to' 'and' 'mln']\n",
      " ['to' 'its' 'dlrs' 'the' 'for']\n",
      " ['in' 'for' 'said' 'of' 'it']\n",
      " ['of' 'vs' 'mln' 'profit' '000']\n",
      " ['of' 'dlrs' 'cts' 'net' 'shr']\n",
      " ['shr' 'qtr' 'vs' 'mln' 'cts']\n",
      " ['shr' 'to' 'vs' 'in' 'billion']\n",
      " ['revs' 'loss' 'net' 'mln' '000']\n",
      " ['revs' 'vs' 'net' 'mln' 'loss']\n",
      " ['and' 'vs' 'the' 'of' '000']\n",
      " ['shr' 'mln' 'vs' 'cts' 'the']]\n"
     ]
    }
   ],
   "source": [
    "top_words = np.array(tfidf.get_feature_names())[\n",
    "            np.argpartition(H, axis=1, kth = -5)]\n",
    "\n",
    "print(top_words[:,-5:])"
   ]
  },
  {
   "cell_type": "code",
   "execution_count": null,
   "metadata": {
    "collapsed": true
   },
   "outputs": [],
   "source": []
  }
 ],
 "metadata": {
  "kernelspec": {
   "display_name": "Python 3",
   "language": "python",
   "name": "python3"
  },
  "language_info": {
   "codemirror_mode": {
    "name": "ipython",
    "version": 3
   },
   "file_extension": ".py",
   "mimetype": "text/x-python",
   "name": "python",
   "nbconvert_exporter": "python",
   "pygments_lexer": "ipython3",
   "version": "3.5.2"
  }
 },
 "nbformat": 4,
 "nbformat_minor": 0
}
