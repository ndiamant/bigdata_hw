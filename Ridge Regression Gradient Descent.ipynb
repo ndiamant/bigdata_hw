{
 "cells": [
  {
   "cell_type": "code",
   "execution_count": 2,
   "metadata": {
    "collapsed": true
   },
   "outputs": [],
   "source": [
    "import numpy as np\n",
    "import csv\n",
    "import matplotlib.pyplot as plt\n",
    "%matplotlib inline  \n",
    "inv = np.linalg.inv\n",
    "plt.style.use('ggplot')"
   ]
  },
  {
   "cell_type": "code",
   "execution_count": 3,
   "metadata": {
    "collapsed": false
   },
   "outputs": [
    {
     "data": {
      "text/plain": [
       "(39644, 61)"
      ]
     },
     "execution_count": 3,
     "metadata": {},
     "output_type": "execute_result"
    }
   ],
   "source": [
    "# import data\n",
    "with open('online_news_popularity.csv', 'r') as f:\n",
    "    reader = csv.reader(f)\n",
    "    a = list(reader)\n",
    "    labels = a[0]\n",
    "    data = np.array(a[1:])\n",
    "data.shape"
   ]
  },
  {
   "cell_type": "code",
   "execution_count": 4,
   "metadata": {
    "collapsed": false
   },
   "outputs": [],
   "source": [
    "# convert the data into a convenient array\n",
    "data = data[:,1:]\n",
    "arrToFloat = np.vectorize(float)\n",
    "data = arrToFloat(data)\n",
    "shares = np.log(data[:,-1])"
   ]
  },
  {
   "cell_type": "code",
   "execution_count": 5,
   "metadata": {
    "collapsed": false
   },
   "outputs": [],
   "source": [
    "# split data into training and test data\n",
    "dataRatio = .75\n",
    "trainingrows = int(data.shape[0]*3/4)\n",
    "trdata = data[0:trainingrows, :]\n",
    "trshares = shares[0:trainingrows]\n",
    "tstdata = data[trainingrows:, :]\n",
    "tstshares = shares[trainingrows:]"
   ]
  },
  {
   "cell_type": "code",
   "execution_count": 109,
   "metadata": {
    "collapsed": false
   },
   "outputs": [
    {
     "name": "stdout",
     "output_type": "stream",
     "text": [
      "[ 2005716.81019188]\n",
      "[8731.6585540781616]\n",
      "[  4.06182440e+08]\n",
      "[1879343.1461200621]\n",
      "[  8.25631275e+10]\n",
      "[381989457.60615361]\n",
      "[  1.67820738e+13]\n",
      "[77644522955.957443]\n",
      "[  3.41118398e+15]\n",
      "[15782301744895.068]\n",
      "[  6.93369380e+17]\n",
      "[3207966752392662.0]\n",
      "[  1.40936725e+20]\n",
      "[6.5206272512299238e+17]\n",
      "[  2.86472997e+22]\n",
      "[1.3254058732924699e+20]\n",
      "[  5.82295196e+24]\n",
      "[2.6940670909026935e+22]\n",
      "[  1.18359391e+27]\n",
      "[5.476056532219192e+24]\n"
     ]
    }
   ],
   "source": [
    "# compare gradient descent to closed form solution\n",
    "\n",
    "trdata = trdata[0:1000,:]\n",
    "trshares = trshares[0:1000]\n",
    "trshares.reshape(trshares.shape[0],1)\n",
    "\n",
    "# initialize weights randomly\n",
    "b = np.random.randn(1)\n",
    "weights = np.random.randn(trdata.shape[1])\n",
    "\n",
    "# define learning parameters\n",
    "lrnrate = .000000000001\n",
    "normconst = 1.0\n",
    "iterations = 10\n",
    "\n",
    "# norm constant matrix, Gamma^T Gamma\n",
    "gamma = normconst * np.identity(trdata.shape[1])\n",
    "\n",
    "# reduce redundant calculations\n",
    "normterm = trdata.T @ trdata + gamma\n",
    "onecol = np.ones((trdata.shape[0],1))\n",
    "yterm = sum(trshares)\n",
    "\n",
    "overNterm = trdata.T @ onecol @ onecol.T @ trdata / trdata.shape[0]\n",
    "\n",
    "# calculate closed form solution\n",
    "identTerm = trdata.T @ (np.eye(trdata.shape[0]) - 1.0/trdata.shape[0])\n",
    "ident = np.identity(trdata.shape[0])\n",
    "\n",
    "toinv = (trdata.T @ trdata  + gamma.T @ gamma - overNterm)\n",
    "\n",
    "otherterm = trdata.T @ trshares - trdata.T @ onecol @ onecol.T @ trshares / trdata.shape[0]\n",
    "\n",
    "xstar = np.linalg.solve(toinv, otherterm)\n",
    "\n",
    "bstar = trshares.T @ onecol -  (xstar.T @ trdata.T @ onecol)/trdata.shape[0]\n",
    "\n",
    "def dist(w,b): # weights, b, real weights, real b\n",
    "    wdif = w.T - xstar.T\n",
    "    bdif = b - bstar\n",
    "    return (wdif.T @ wdif  + bdif**2)**.5\n",
    "\n",
    "# run gradient descent\n",
    "for i in range(iterations):\n",
    "    # calculate gradient w.r.t. weights and deriv w.r.t b\n",
    "\n",
    "    gradw = normterm @ weights + trdata.T @ (b * np.ones(trshares.shape[0]) - trshares)\n",
    "    derivb = weights.T @ trdata.T @ onecol - yterm + b * trdata.shape[0]\n",
    "    \n",
    "    # update weights and b\n",
    "    weights = weights - 2.5e-12 * gradw\n",
    "    b = b - .2 * derivb\n",
    "    \n",
    "    # check dist\n",
    "    print(dist(weights,b))\n",
    "    \n",
    "    error = np.dot(tstdata, weights) - tstshares\n",
    "    print([1/tstdata.shape[0] * np.dot(error,error)**.5]) # calc. RMSE\n",
    "\n"
   ]
  },
  {
   "cell_type": "code",
   "execution_count": 62,
   "metadata": {
    "collapsed": false
   },
   "outputs": [
    {
     "name": "stdout",
     "output_type": "stream",
     "text": [
      "(60, 60)\n",
      "(60, 1000)\n"
     ]
    }
   ],
   "source": []
  },
  {
   "cell_type": "code",
   "execution_count": 19,
   "metadata": {
    "collapsed": false
   },
   "outputs": [
    {
     "data": {
      "text/plain": [
       "0.14285714285714285"
      ]
     },
     "execution_count": 19,
     "metadata": {},
     "output_type": "execute_result"
    }
   ],
   "source": [
    "1/7"
   ]
  },
  {
   "cell_type": "code",
   "execution_count": 41,
   "metadata": {
    "collapsed": false
   },
   "outputs": [
    {
     "data": {
      "text/plain": [
       "array([[ 1.],\n",
       "       [ 1.],\n",
       "       [ 1.],\n",
       "       [ 1.],\n",
       "       [ 1.],\n",
       "       [ 1.],\n",
       "       [ 1.],\n",
       "       [ 1.],\n",
       "       [ 1.],\n",
       "       [ 1.]])"
      ]
     },
     "execution_count": 41,
     "metadata": {},
     "output_type": "execute_result"
    }
   ],
   "source": [
    "x = np.ones(10)\n",
    "x.reshape(10,1)"
   ]
  },
  {
   "cell_type": "code",
   "execution_count": 71,
   "metadata": {
    "collapsed": false
   },
   "outputs": [
    {
     "data": {
      "text/plain": [
       "array([[  7.22633000e+05],\n",
       "       [  9.97900000e+03],\n",
       "       [  4.76496000e+05],\n",
       "       [  5.63953934e+02],\n",
       "       [  9.97999994e+02],\n",
       "       [  7.09122799e+02],\n",
       "       [  9.57800000e+03],\n",
       "       [  3.92200000e+03],\n",
       "       [  3.87700000e+03],\n",
       "       [  7.40000000e+02],\n",
       "       [  4.65259780e+03],\n",
       "       [  7.17600000e+03],\n",
       "       [  1.02000000e+02],\n",
       "       [  1.48000000e+02],\n",
       "       [  1.55000000e+02],\n",
       "       [  6.70000000e+01],\n",
       "       [  2.34000000e+02],\n",
       "       [  1.50000000e+02],\n",
       "       [  1.99857000e+05],\n",
       "       [  1.06184900e+06],\n",
       "       [  4.71064229e+05],\n",
       "       [  1.02898400e+06],\n",
       "       [  3.75227000e+07],\n",
       "       [  1.52853184e+07],\n",
       "       [  2.85083611e+05],\n",
       "       [  3.49809367e+06],\n",
       "       [  1.81848221e+06],\n",
       "       [  1.95632800e+06],\n",
       "       [  4.58849000e+06],\n",
       "       [  2.78880361e+06],\n",
       "       [  2.23000000e+02],\n",
       "       [  1.65000000e+02],\n",
       "       [  2.49000000e+02],\n",
       "       [  1.72000000e+02],\n",
       "       [  1.07000000e+02],\n",
       "       [  3.70000000e+01],\n",
       "       [  4.70000000e+01],\n",
       "       [  8.40000000e+01],\n",
       "       [  1.79522728e+02],\n",
       "       [  1.45814811e+02],\n",
       "       [  1.83117899e+02],\n",
       "       [  1.95809242e+02],\n",
       "       [  2.95735320e+02],\n",
       "       [  4.56141524e+02],\n",
       "       [  1.41436427e+02],\n",
       "       [  4.49426396e+01],\n",
       "       [  1.63111199e+01],\n",
       "       [  7.25599755e+02],\n",
       "       [  2.72400245e+02],\n",
       "       [  3.67193139e+02],\n",
       "       [  9.92228680e+01],\n",
       "       [  7.79431472e+02],\n",
       "       [ -2.57300279e+02],\n",
       "       [ -4.96956151e+02],\n",
       "       [ -1.12428587e+02],\n",
       "       [  2.70395155e+02],\n",
       "       [  7.37790323e+01],\n",
       "       [  3.44982926e+02],\n",
       "       [  1.48953738e+02],\n",
       "       [  2.50546200e+06]])"
      ]
     },
     "execution_count": 71,
     "metadata": {},
     "output_type": "execute_result"
    }
   ],
   "source": [
    "trdata.T @ onecol"
   ]
  },
  {
   "cell_type": "code",
   "execution_count": null,
   "metadata": {
    "collapsed": true
   },
   "outputs": [],
   "source": []
  }
 ],
 "metadata": {
  "kernelspec": {
   "display_name": "Python 3",
   "language": "python",
   "name": "python3"
  },
  "language_info": {
   "codemirror_mode": {
    "name": "ipython",
    "version": 3
   },
   "file_extension": ".py",
   "mimetype": "text/x-python",
   "name": "python",
   "nbconvert_exporter": "python",
   "pygments_lexer": "ipython3",
   "version": "3.5.2"
  }
 },
 "nbformat": 4,
 "nbformat_minor": 0
}
