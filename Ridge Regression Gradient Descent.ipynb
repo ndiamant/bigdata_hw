{
 "cells": [
  {
   "cell_type": "code",
   "execution_count": 15,
   "metadata": {
    "collapsed": true
   },
   "outputs": [],
   "source": [
    "import numpy as np\n",
    "import csv\n",
    "import matplotlib.pyplot as plt\n",
    "%matplotlib inline  \n",
    "inv = np.linalg.inv\n",
    "plt.style.use('ggplot')"
   ]
  },
  {
   "cell_type": "code",
   "execution_count": 16,
   "metadata": {
    "collapsed": false
   },
   "outputs": [
    {
     "data": {
      "text/plain": [
       "(39644, 61)"
      ]
     },
     "execution_count": 16,
     "metadata": {},
     "output_type": "execute_result"
    }
   ],
   "source": [
    "# import data\n",
    "with open('online_news_popularity.csv', 'r') as f:\n",
    "    reader = csv.reader(f)\n",
    "    a = list(reader)\n",
    "    labels = a[0]\n",
    "    data = np.array(a[1:])\n",
    "data.shape"
   ]
  },
  {
   "cell_type": "code",
   "execution_count": 17,
   "metadata": {
    "collapsed": false
   },
   "outputs": [],
   "source": [
    "# convert the data into a convenient array\n",
    "data = data[:,1:]\n",
    "arrToFloat = np.vectorize(float)\n",
    "data = arrToFloat(data)\n",
    "shares = np.log(data[:,-1])"
   ]
  },
  {
   "cell_type": "code",
   "execution_count": 18,
   "metadata": {
    "collapsed": false
   },
   "outputs": [],
   "source": [
    "# split data into training and test data\n",
    "dataRatio = .1\n",
    "trainingrows = int(data.shape[0]*dataRatio)\n",
    "trdata = data[0:trainingrows, :]\n",
    "trshares = shares[0:trainingrows]\n",
    "tstdata = data[trainingrows:, :]\n",
    "tstshares = shares[trainingrows:]"
   ]
  },
  {
   "cell_type": "code",
   "execution_count": 19,
   "metadata": {
    "collapsed": false
   },
   "outputs": [],
   "source": [
    "# compare gradient descent to closed form solution\n",
    "\n",
    "trshares.reshape(trshares.shape[0],1)\n",
    "\n",
    "# initialize weights randomly\n",
    "b = np.random.randn(1)\n",
    "weights = np.random.randn(trdata.shape[1])\n",
    "\n",
    "# define learning parameters\n",
    "wlrn = 2.5e-16\n",
    "blrn = 2.5e-4\n",
    "normconst = 100\n",
    "iterations = 100\n",
    "\n",
    "# norm constant matrix, Gamma^T Gamma\n",
    "gamma = normconst * np.identity(trdata.shape[1])\n",
    "\n",
    "# reduce redundant calculations\n",
    "normterm = trdata.T @ trdata + gamma\n",
    "onecol = np.ones((trdata.shape[0],1))\n",
    "yterm = sum(trshares)\n",
    "\n",
    "overNterm = trdata.T @ onecol @ onecol.T @ trdata / trdata.shape[0]\n",
    "\n",
    "# calculate closed form solution\n",
    "identTerm = trdata.T @ (np.eye(trdata.shape[0]) - 1.0/trdata.shape[0])\n",
    "ident = np.identity(trdata.shape[0])\n",
    "\n",
    "toinv = (trdata.T @ trdata  + gamma.T @ gamma - overNterm)\n",
    "\n",
    "otherterm = trdata.T @ trshares - trdata.T @ onecol @ onecol.T @ trshares / trdata.shape[0]\n",
    "\n",
    "xstar = np.linalg.solve(toinv, otherterm)\n",
    "\n",
    "bstar = trshares.T @ onecol -  (xstar.T @ trdata.T @ onecol)/trdata.shape[0]\n",
    "\n",
    "def dist(w,b): # weights, b, real weights, real b\n",
    "    wdif = w.T - xstar.T\n",
    "    bdif = b - bstar\n",
    "    return (wdif.T @ wdif  + bdif**2)**.5\n",
    "\n",
    "# dists for plot\n",
    "dists = []\n",
    "iters = list(range(iterations))\n",
    "\n",
    "# run gradient descent\n",
    "for i in iters:\n",
    "    # calculate gradient w.r.t. weights and deriv w.r.t b\n",
    "    gradw = normterm @ weights + trdata.T @ (b * np.ones(trshares.shape[0]) - trshares)\n",
    "    derivb = weights.T @ trdata.T @ onecol - yterm + b * trdata.shape[0]\n",
    "    \n",
    "    # update weights and b\n",
    "    weights = weights - wlrn * gradw\n",
    "    b = b - blrn * derivb\n",
    "    \n",
    "    # get distance from ideal solution\n",
    "    dists += [dist(weights,b)]\n",
    "    \n",
    "    error = np.dot(tstdata, weights) - tstshares\n",
    "    #print([1/tstdata.shape[0] * np.dot(error,error)**.5]) # calc. RMSE\n"
   ]
  },
  {
   "cell_type": "code",
   "execution_count": 20,
   "metadata": {
    "collapsed": false
   },
   "outputs": [
    {
     "data": {
      "text/plain": [
       "[<matplotlib.lines.Line2D at 0x7f743a0de9e8>]"
      ]
     },
     "execution_count": 20,
     "metadata": {},
     "output_type": "execute_result"
    },
    {
     "data": {
      "image/png": "[encoded data removed]",
      "text/plain": [
       "<matplotlib.figure.Figure at 0x7f743a18ff28>"
      ]
     },
     "metadata": {},
     "output_type": "display_data"
    }
   ],
   "source": [
    "plt.xlabel(\"Iterations\")\n",
    "plt.ylabel(\"L2 Distance from Closed Form Solution\")\n",
    "\n",
    "plt.plot(iters,dists)"
   ]
  }
 ],
 "metadata": {
  "kernelspec": {
   "display_name": "Python 3",
   "language": "python",
   "name": "python3"
  },
  "language_info": {
   "codemirror_mode": {
    "name": "ipython",
    "version": 3
   },
   "file_extension": ".py",
   "mimetype": "text/x-python",
   "name": "python",
   "nbconvert_exporter": "python",
   "pygments_lexer": "ipython3",
   "version": "3.5.2"
  }
 },
 "nbformat": 4,
 "nbformat_minor": 0
}
