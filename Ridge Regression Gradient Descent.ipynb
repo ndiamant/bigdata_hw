{
 "cells": [
  {
   "cell_type": "code",
   "execution_count": 3,
   "metadata": {
    "collapsed": true
   },
   "outputs": [],
   "source": [
    "import numpy as np\n",
    "import csv\n",
    "import matplotlib.pyplot as plt\n",
    "%matplotlib inline  \n",
    "inv = np.linalg.inv\n",
    "plt.style.use('ggplot')"
   ]
  },
  {
   "cell_type": "code",
   "execution_count": 4,
   "metadata": {
    "collapsed": false
   },
   "outputs": [
    {
     "data": {
      "text/plain": [
       "(39644, 61)"
      ]
     },
     "execution_count": 4,
     "metadata": {},
     "output_type": "execute_result"
    }
   ],
   "source": [
    "# import data\n",
    "with open('online_news_popularity.csv', 'r') as f:\n",
    "    reader = csv.reader(f)\n",
    "    a = list(reader)\n",
    "    labels = a[0]\n",
    "    data = np.array(a[1:])\n",
    "data.shape"
   ]
  },
  {
   "cell_type": "code",
   "execution_count": 5,
   "metadata": {
    "collapsed": false
   },
   "outputs": [
    {
     "data": {
      "text/plain": [
       "(39644, 60)"
      ]
     },
     "execution_count": 5,
     "metadata": {},
     "output_type": "execute_result"
    }
   ],
   "source": [
    "# convert the data into a convenient array\n",
    "data = data[:,1:]\n",
    "arrToFloat = np.vectorize(float)\n",
    "data = arrToFloat(data)\n",
    "shares = np.log(data[:,-1])"
   ]
  },
  {
   "cell_type": "code",
   "execution_count": 6,
   "metadata": {
    "collapsed": false
   },
   "outputs": [],
   "source": [
    "# split data into training and test data\n",
    "dataRatio = .75\n",
    "trainingrows = int(data.shape[0]*3/4)\n",
    "trdata = data[0:trainingrows, :]\n",
    "trshares = shares[0:trainingrows]\n",
    "tstdata = data[trainingrows:, :]\n",
    "tstshares = shares[trainingrows:]"
   ]
  },
  {
   "cell_type": "code",
   "execution_count": null,
   "metadata": {
    "collapsed": false
   },
   "outputs": [],
   "source": [
    "# compare gradient descent to closed form solution\n",
    "\n",
    "# initialize weights randomly\n",
    "b = np.random.randn()\n",
    "weights = np.random.randn(trdata.shape[1])\n",
    "\n",
    "# define learning parameters\n",
    "lrnrate = .05\n",
    "normconst = 1.0\n",
    "iterations = 100\n",
    "\n",
    "# norm constant matrix, Gamma^T Gamma\n",
    "gamma = normconst * np.identity(trdata.shape[1])\n",
    "\n",
    "# reduce redundant calculations\n",
    "normterm = trdata.T @ trdata + gamma\n",
    "onecol = np.ones((trdata.shape[0],1))\n",
    "yterm = sum(trshares)\n",
    "\n",
    "# calculate closed form solution\n",
    "\n",
    "\n",
    "# run gradient descent\n",
    "for i in range(iterations):\n",
    "    # calculate gradient w.r.t. weights and deriv w.r.t b\n",
    "    gradw = normterm @ weights - trdata.T @ (trshares - b * onecol)\n",
    "    derivb = weights.T @ trdata.T @ onecol - yterm + b * trdata.shape[0]\n",
    "    \n",
    "    # update weights and b\n",
    "    weights = weights - lrnrate * gradw\n",
    "    b = b - lrnrate * 2 * derivb \n",
    "\n"
   ]
  },
  {
   "cell_type": "code",
   "execution_count": null,
   "metadata": {
    "collapsed": true
   },
   "outputs": [],
   "source": []
  }
 ],
 "metadata": {
  "kernelspec": {
   "display_name": "Python 3",
   "language": "python",
   "name": "python3"
  },
  "language_info": {
   "codemirror_mode": {
    "name": "ipython",
    "version": 3
   },
   "file_extension": ".py",
   "mimetype": "text/x-python",
   "name": "python",
   "nbconvert_exporter": "python",
   "pygments_lexer": "ipython3",
   "version": "3.5.2"
  }
 },
 "nbformat": 4,
 "nbformat_minor": 0
}
