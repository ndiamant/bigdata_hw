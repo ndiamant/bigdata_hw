{
 "cells": [
  {
   "cell_type": "code",
   "execution_count": 1,
   "metadata": {
    "collapsed": true
   },
   "outputs": [],
   "source": [
    "import numpy as np\n",
    "import csv\n",
    "import matplotlib.pyplot as plt\n",
    "%matplotlib inline  \n",
    "inv = np.linalg.inv\n",
    "plt.style.use('ggplot')"
   ]
  },
  {
   "cell_type": "code",
   "execution_count": 2,
   "metadata": {
    "collapsed": false
   },
   "outputs": [
    {
     "data": {
      "text/plain": [
       "(39644, 61)"
      ]
     },
     "execution_count": 2,
     "metadata": {},
     "output_type": "execute_result"
    }
   ],
   "source": [
    "# import data\n",
    "with open('online_news_popularity.csv', 'r') as f:\n",
    "    reader = csv.reader(f)\n",
    "    a = list(reader)\n",
    "    labels = a[0]\n",
    "    data = np.array(a[1:])\n",
    "data.shape"
   ]
  },
  {
   "cell_type": "code",
   "execution_count": 3,
   "metadata": {
    "collapsed": true
   },
   "outputs": [],
   "source": [
    "# convert the data into a convenient array\n",
    "data[:,0] = 1.0\n",
    "arrToFloat = np.vectorize(float)\n",
    "data = arrToFloat(data)\n",
    "shares = np.log(data[:,-1])"
   ]
  },
  {
   "cell_type": "code",
   "execution_count": 4,
   "metadata": {
    "collapsed": true
   },
   "outputs": [],
   "source": [
    "# split data into training and test data\n",
    "dataRatio = .75\n",
    "trainingrows = int(data.shape[0]*3/4)\n",
    "trdata = data[0:trainingrows, :]\n",
    "trshares = shares[0:trainingrows]\n",
    "tstdata = data[trainingrows:, :]\n",
    "tstshares = shares[trainingrows:]"
   ]
  },
  {
   "cell_type": "code",
   "execution_count": 9,
   "metadata": {
    "collapsed": false
   },
   "outputs": [
    {
     "data": {
      "text/plain": [
       "array([ 0.7513855 ,  0.57059224,  0.59570118, -1.82037978, -0.12315422,\n",
       "       -0.3365066 ,  1.19739509, -2.31558859,  1.82143289,  0.78029365,\n",
       "        0.27407829, -1.82611613, -0.06287225,  1.37634954,  1.15192808,\n",
       "       -0.48706132, -0.36529953, -0.89333657, -1.74886496,  0.56615247,\n",
       "       -1.56590018,  0.20287572, -1.45358285, -0.1219667 , -1.34764635,\n",
       "       -1.00618098,  1.19458449,  0.1085293 , -0.2638959 ,  0.63088371,\n",
       "       -2.09702518, -1.39494862,  1.51488901,  0.37117239,  0.14659741,\n",
       "        1.37180385,  0.11463759, -1.35807175, -1.24283473, -0.55230876,\n",
       "       -0.70559019, -0.6362193 , -0.73902283,  0.7622201 ,  1.07732696,\n",
       "        0.28087668,  0.45936743,  2.04374993, -0.98853538, -0.19240514,\n",
       "       -1.20574017, -0.83841591,  1.24203024, -0.6512041 , -0.47005334,\n",
       "        1.01914602, -0.12970153,  0.51653022, -0.02429673,  0.23484603,\n",
       "       -1.56970604])"
      ]
     },
     "execution_count": 9,
     "metadata": {},
     "output_type": "execute_result"
    }
   ],
   "source": [
    "# compare gradient descent to closed form solution\n",
    "\n",
    "# initialize weights randomly\n",
    "b = np.random.randn()\n",
    "weights = np.random.randn(trdata.shape[1])\n",
    "\n",
    "# define learning parameters\n",
    "lrnrate = .05\n",
    "normconst = 1\n",
    "iterations = 10000\n",
    "\n",
    "for i in range(iterations):\n",
    "    \n"
   ]
  },
  {
   "cell_type": "code",
   "execution_count": null,
   "metadata": {
    "collapsed": true
   },
   "outputs": [],
   "source": []
  }
 ],
 "metadata": {
  "kernelspec": {
   "display_name": "Python 3",
   "language": "python",
   "name": "python3"
  },
  "language_info": {
   "codemirror_mode": {
    "name": "ipython",
    "version": 3
   },
   "file_extension": ".py",
   "mimetype": "text/x-python",
   "name": "python",
   "nbconvert_exporter": "python",
   "pygments_lexer": "ipython3",
   "version": "3.5.2"
  }
 },
 "nbformat": 4,
 "nbformat_minor": 0
}
