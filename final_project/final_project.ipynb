{
 "cells": [
  {
   "cell_type": "code",
   "execution_count": 119,
   "metadata": {
    "collapsed": false
   },
   "outputs": [],
   "source": [
    "import pandas as pd\n",
    "import numpy as np\n",
    "import matplotlib.pyplot as plt\n",
    "import glob\n",
    "%matplotlib inline\n",
    "import GPy\n",
    "import cvxpy"
   ]
  },
  {
   "cell_type": "code",
   "execution_count": 2,
   "metadata": {
    "collapsed": true
   },
   "outputs": [],
   "source": [
    "def gauss_gp(y, plot = False):\n",
    "    \"\"\"\n",
    "    y: np n x 1 array of input data\n",
    "    \"\"\"   \n",
    "    x = np.atleast_2d(np.linspace(0, y.shape[0] - 1, y.shape[0])).T\n",
    "    \n",
    "    # squared gaussian kernel\n",
    "    kernel  = GPy.kern.RBF(input_dim=1, variance=1., lengthscale=1.)\n",
    "\n",
    "    # initialize gaussian process\n",
    "    gp = GPy.models.GPRegression(x,y,kernel)\n",
    "    \n",
    "    # optimize gp\n",
    "    gp.optimize()\n",
    "  \n",
    "    # point to predict at\n",
    "    point = (x[-1] + 1).reshape(1, -1)\n",
    "    \n",
    "    # predict\n",
    "    pred, sigma = gp.predict(point)\n",
    "    \n",
    "    return_frac = pred / y[-1] - 1\n",
    "    \n",
    "    # plotting\n",
    "    if plot:\n",
    "        plt.plot(list(y) + [pred])\n",
    "    \n",
    "    # return sharpe\n",
    "    return return_frac[0,0], sigma"
   ]
  },
  {
   "cell_type": "code",
   "execution_count": 3,
   "metadata": {
    "collapsed": false
   },
   "outputs": [
    {
     "name": "stdout",
     "output_type": "stream",
     "text": [
      "()\n"
     ]
    },
    {
     "data": {
      "image/png": "[encoded data removed]",
      "text/plain": [
       "<matplotlib.figure.Figure at 0x7f6073b1dc50>"
      ]
     },
     "metadata": {},
     "output_type": "display_data"
    }
   ],
   "source": [
    "a = np.array([[1, 2, 2.1, 3, 5, 6,3 ,4]]).T\n",
    "R, cov = gauss_gp(a, True)\n",
    "print(R.shape)"
   ]
  },
  {
   "cell_type": "code",
   "execution_count": 4,
   "metadata": {
    "collapsed": false
   },
   "outputs": [],
   "source": [
    "def cov_return_sigma(X, sharpe_func):\n",
    "    \"\"\"\n",
    "    X: n x k numpy array of stocks\n",
    "    sharpe_func: function that takes an n x 1 array of input data and \n",
    "                 returns a tuple of return rate and std. deviation of \n",
    "                 that return rate\n",
    "    \"\"\"\n",
    "    \n",
    "    cov = np.cov(X)\n",
    "    \n",
    "    return_sigma = np.array([sharpe_func(X[i][:, np.newaxis]) for i in range(X.shape[0])])\n",
    "    \n",
    "    returns = return_sigma[:,0]\n",
    "    sigma = return_sigma[:,1]\n",
    "    \n",
    "    return cov, returns, sigma\n",
    "    "
   ]
  },
  {
   "cell_type": "code",
   "execution_count": 120,
   "metadata": {
    "collapsed": true
   },
   "outputs": [],
   "source": [
    "def read_stocks(dir_name, random = False, num_rand = None):\n",
    "    \"\"\"\n",
    "    dir_name: string directory name\n",
    "    \n",
    "    returns: stocks as rows all concatenated to min. length\n",
    "    \n",
    "    Assumes stocks are csv's\n",
    "    \"\"\"\n",
    "    stock_files = glob.glob(dir_name + '/*.csv')\n",
    "    \n",
    "    if random:\n",
    "        ind = np.random.randint(0, len(stock_files), size = num_rand)\n",
    "        stock_files = list(np.array(stock_files)[ind])\n",
    "    \n",
    "    labels = []\n",
    "    \n",
    "    X = []\n",
    "    min_len = 100000\n",
    "    \n",
    "    for stock in stock_files:\n",
    "        x = pd.read_csv(stock)['Adj Close'].as_matrix().astype(np.float64)\n",
    "        if x.shape[0] >= 100:\n",
    "            if x.shape[0] < min_len:\n",
    "                min_len = x.shape[0]\n",
    "            X.append(x)\n",
    "            labels.append(stock[len(dir_name) + 1:][0:-4])\n",
    "        \n",
    "    for i in range(len(X)):\n",
    "        X[i] = X[i][-min_len:]\n",
    "        \n",
    "    X = np.array(X)\n",
    "    \n",
    "    # lables\n",
    "    return labels, X[:,0:-1], X[:,-1][:,np.newaxis]"
   ]
  },
  {
   "cell_type": "code",
   "execution_count": 110,
   "metadata": {
    "collapsed": false
   },
   "outputs": [],
   "source": [
    "def optimize_port(R, sigma, theta):\n",
    "    \"\"\"\n",
    "    cor: Nxk correlation matrix of stocks\n",
    "    returns: Nx1 return fraction matrix\n",
    "    sigma: Nx1 expected standard deviation on returns\n",
    "    \"\"\"\n",
    "    \n",
    "    w = cvxpy.Variable(R.shape[0])\n",
    "    \n",
    "    objective = cvxpy.Minimize(-theta * R.T @ w + (1 - theta) * cvxpy.quad_form(w, sigma))\n",
    "    \n",
    "    ones = np.ones(R.shape[0])\n",
    "    \n",
    "    constraints = [w >= 0, sum(w) == 1]\n",
    "    \n",
    "    problem = cvxpy.Problem(objective, constraints)\n",
    "    \n",
    "    result = problem.solve()\n",
    "    \n",
    "    return (w.value)\n",
    "    \n",
    "    "
   ]
  },
  {
   "cell_type": "code",
   "execution_count": 113,
   "metadata": {
    "collapsed": false
   },
   "outputs": [],
   "source": [
    "labels, X, y = read_stocks('/home/nate/Courses/bigdata/bigdata_hw/final_project/stock_data2')\n",
    "\n",
    "cov, returns, sigma = cov_return_sigma(X, gauss_gp) \n",
    "\n",
    "cov += 10 * np.diag(sigma)\n",
    "    \n",
    "def is_pos_def(x):\n",
    "    return np.all(np.linalg.eigvals(x) > 0)\n"
   ]
  },
  {
   "cell_type": "code",
   "execution_count": 11,
   "metadata": {
    "collapsed": false,
    "scrolled": true
   },
   "outputs": [
    {
     "data": {
      "text/plain": [
       "True"
      ]
     },
     "execution_count": 11,
     "metadata": {},
     "output_type": "execute_result"
    }
   ],
   "source": [
    "is_pos_def(cov)"
   ]
  },
  {
   "cell_type": "code",
   "execution_count": 114,
   "metadata": {
    "collapsed": false
   },
   "outputs": [],
   "source": [
    "opt = optimize_port(returns, cov, .5)"
   ]
  },
  {
   "cell_type": "code",
   "execution_count": 115,
   "metadata": {
    "collapsed": false
   },
   "outputs": [
    {
     "name": "stdout",
     "output_type": "stream",
     "text": [
      "(48, 1)\n",
      "[[ 0.03144221  0.00553032  0.0353734   0.13879926  0.00245592  0.01147424\n",
      "   0.00977938  0.05875406  0.01936416  0.51558835  0.0772557   0.01873162\n",
      "   0.00162832  0.02449255  0.0122944   0.00434967  0.00251014  0.00272269\n",
      "   0.02745363]] ['FINZ' 'FL' 'FGL' 'FHY' 'FIT' 'FIVN' 'FLIC' 'FITBI' 'FLAT' 'FHCO' 'FIG'\n",
      " 'FISI' 'FINL' 'FLC' 'FGEN' 'FITB' 'FIX' 'FGP' 'FHN']\n"
     ]
    }
   ],
   "source": [
    "print(opt.shape)\n",
    "\n",
    "l = np.array(labels)[:,np.newaxis]\n",
    "\n",
    "choices = l[np.where(opt>.001)]\n",
    "\n",
    "weights = opt[opt>.001]\n",
    "\n",
    "weights /= np.sum(weights)\n",
    "\n",
    "print(weights, choices)"
   ]
  },
  {
   "cell_type": "code",
   "execution_count": 104,
   "metadata": {
    "collapsed": true
   },
   "outputs": [],
   "source": [
    "def return_frac(w, last_X, y):\n",
    "    \"\"\"\n",
    "    w: weights of stocks\n",
    "    X: original data\n",
    "    y: back_test data\n",
    "    \"\"\"\n",
    "    returns = (y / last_X - 1)[:,np.newaxis]\n",
    "    return (w @ returns)[0,0]"
   ]
  },
  {
   "cell_type": "code",
   "execution_count": 116,
   "metadata": {
    "collapsed": false
   },
   "outputs": [
    {
     "name": "stdout",
     "output_type": "stream",
     "text": [
      "(19,) (19,)\n"
     ]
    },
    {
     "data": {
      "text/plain": [
       "-0.01208591044786152"
      ]
     },
     "execution_count": 116,
     "metadata": {},
     "output_type": "execute_result"
    }
   ],
   "source": [
    "l_X = X[:,-1][:,np.newaxis]\n",
    "l_X = l_X[np.where(opt>.001)]\n",
    "l_y = y[np.where(opt>.001)]\n",
    "\n",
    "print(l_y.shape, l_X.shape)\n",
    "\n",
    "return_frac(weights,l_X,l_y)"
   ]
  },
  {
   "cell_type": "code",
   "execution_count": 122,
   "metadata": {
    "collapsed": false
   },
   "outputs": [],
   "source": [
    "def find_theta(returns, cov):\n",
    "    \"\"\"\n",
    "    \n",
    "    \"\"\"\n",
    "    bestVal = -10000\n",
    "    bestTheta = 0\n",
    "\n",
    "    for i in range(1,10):\n",
    "        test = 1.0/i\n",
    "        opt = optimize_port(returns, cov, test)\n",
    "\n",
    "        weights = opt[opt>.001]\n",
    "        weights /= np.sum(weights)\n",
    "\n",
    "        l = np.array(labels)[:,np.newaxis]\n",
    "        l_X = X[:,-1][:,np.newaxis]\n",
    "        l_X = l_X[np.where(opt>.001)]\n",
    "        l_y = y[np.where(opt>.001)]\n",
    "\n",
    "        temp = return_frac(weights, l_X, l_y)\n",
    "        if temp > bestVal:\n",
    "            bestVal = temp\n",
    "            bestTheta = 1./i    \n",
    "        return bestVal, bestTheta, l_X"
   ]
  },
  {
   "cell_type": "code",
   "execution_count": 118,
   "metadata": {
    "collapsed": false
   },
   "outputs": [
    {
     "name": "stdout",
     "output_type": "stream",
     "text": [
      "1.0 0.00228174544885\n"
     ]
    }
   ],
   "source": [
    "print(bestTheta, bestVal)"
   ]
  },
  {
   "cell_type": "code",
   "execution_count": null,
   "metadata": {
    "collapsed": true
   },
   "outputs": [],
   "source": []
  },
  {
   "cell_type": "code",
   "execution_count": null,
   "metadata": {
    "collapsed": true
   },
   "outputs": [],
   "source": [
    "def full_test(dir_name, num_stocks, num_tests):\n",
    "    thetas = []\n",
    "    returns_list = []\n",
    "    for i in range(num_tests):\n",
    "        labels, X, y = read_stocks('/home/nate/Courses/bigdata/bigdata_hw/final_project/stock_data2', random = True, num_rand=num_stocks)\n",
    "        \n",
    "        cov, returns, sigma = cov_return_sigma(X, gauss_gp) \n",
    "        bestVal, bestTheta, l_X = find_theta(returns, cov)\n",
    "        \n",
    "        thetas.append((bestVal, bestTheta))\n",
    "        returns_list.append(return_frac())\n",
    "        \n",
    "        "
   ]
  }
 ],
 "metadata": {
  "kernelspec": {
   "display_name": "Python 3",
   "language": "python",
   "name": "python3"
  },
  "language_info": {
   "codemirror_mode": {
    "name": "ipython",
    "version": 3
   },
   "file_extension": ".py",
   "mimetype": "text/x-python",
   "name": "python",
   "nbconvert_exporter": "python",
   "pygments_lexer": "ipython3",
   "version": "3.5.2"
  }
 },
 "nbformat": 4,
 "nbformat_minor": 0
}
