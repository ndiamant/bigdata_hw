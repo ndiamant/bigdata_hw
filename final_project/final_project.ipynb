{
 "cells": [
  {
   "cell_type": "code",
   "execution_count": 95,
   "metadata": {
    "collapsed": true
   },
   "outputs": [],
   "source": [
    "import pandas as pd\n",
    "import numpy as np\n",
    "import matplotlib.pyplot as plt\n",
    "import glob\n",
    "%matplotlib inline\n",
    "plt.style.use('ggplot')\n",
    "\n",
    "from sklearn.gaussian_process import GaussianProcessRegressor\n",
    "from sklearn.gaussian_process.kernels import RBF, ConstantKernel as C"
   ]
  },
  {
   "cell_type": "code",
   "execution_count": 96,
   "metadata": {
    "collapsed": true
   },
   "outputs": [],
   "source": [
    "def gauss_gp(y):\n",
    "    \"\"\"\n",
    "    y: np n x 1 array of input data\n",
    "    \"\"\"\n",
    "    x = np.atleast_2d(np.linspace(0, y.shape[0] - 1, y.shape[0])).T\n",
    "    \n",
    "    # squared gaussian kernel\n",
    "    kernel = RBF(1) * C(1.0, (1e-3, 1e3))\n",
    "\n",
    "    # initialize gaussian process\n",
    "    gp = GaussianProcessRegressor(kernel=kernel, n_restarts_optimizer=9)\n",
    "  \n",
    "    # point to predict at\n",
    "    gp.fit(x, y)\n",
    "    point = (x[-1] + 1).reshape(1, -1)\n",
    "    \n",
    "    # run gp\n",
    "    pred, sigma = gp.predict(point, return_std=True)\n",
    "    \n",
    "    return_frac = pred / y[-1] - 1\n",
    "    \n",
    "    # return sharpe\n",
    "    return return_frac, sigma"
   ]
  },
  {
   "cell_type": "code",
   "execution_count": 97,
   "metadata": {
    "collapsed": false
   },
   "outputs": [],
   "source": [
    "def cor_return_sigma(X, sharpe_func):\n",
    "    \"\"\"\n",
    "    X: n x k numpy array of stocks\n",
    "    sharpe_func: function that takes an n x 1 array of input data and \n",
    "                 returns a tuple of return rate and std. deviation of \n",
    "                 that return rate\n",
    "    \"\"\"\n",
    "    \n",
    "    cor = np.corrcoef(X)\n",
    "    \n",
    "    return_sigma = [sharpe_func(X[i]) for i in range(X.shape[0])]\n",
    "    \n",
    "    return cor, np.array(return_sigma)\n",
    "    "
   ]
  },
  {
   "cell_type": "code",
   "execution_count": 139,
   "metadata": {
    "collapsed": true
   },
   "outputs": [],
   "source": [
    "def read_stocks(dir_name):\n",
    "    \"\"\"\n",
    "    dir_name: string directory name\n",
    "    \n",
    "    returns: stocks as rows all concatenated to min. length\n",
    "    \n",
    "    Assumes stocks are csv's\n",
    "    \"\"\"\n",
    "    stock_files = glob.glob(dir_name + '/*.csv')\n",
    "    \n",
    "    X = []\n",
    "    min_len = 100000\n",
    "    \n",
    "    for stock in stock_files:\n",
    "        x = pd.read_csv(stock)['Adj Close'].as_matrix().astype(np.float64)\n",
    "        if x.shape[0] < min_len:\n",
    "            min_len = x.shape[0]\n",
    "        X.append(x[-min_len:])\n",
    "    \n",
    "    return np.array(X)"
   ]
  },
  {
   "cell_type": "code",
   "execution_count": 143,
   "metadata": {
    "collapsed": false
   },
   "outputs": [
    {
     "data": {
      "text/plain": [
       "(array([[ 1.        ,  0.01874344,  0.02134416,  0.737496  ,  0.35623885,\n",
       "          0.23775294, -0.15721298, -0.10684355],\n",
       "        [ 0.01874344,  1.        , -0.12549223, -0.13182161,  0.00289092,\n",
       "         -0.58723827,  0.02031588,  0.7454691 ],\n",
       "        [ 0.02134416, -0.12549223,  1.        ,  0.03513374,  0.05957011,\n",
       "          0.19796489,  0.02510202, -0.06450011],\n",
       "        [ 0.737496  , -0.13182161,  0.03513374,  1.        ,  0.73089603,\n",
       "          0.60138208,  0.20012134, -0.13029708],\n",
       "        [ 0.35623885,  0.00289092,  0.05957011,  0.73089603,  1.        ,\n",
       "          0.66277987,  0.48059125,  0.07928716],\n",
       "        [ 0.23775294, -0.58723827,  0.19796489,  0.60138208,  0.66277987,\n",
       "          1.        ,  0.2615273 , -0.52480686],\n",
       "        [-0.15721298,  0.02031588,  0.02510202,  0.20012134,  0.48059125,\n",
       "          0.2615273 ,  1.        ,  0.12829842],\n",
       "        [-0.10684355,  0.7454691 , -0.06450011, -0.13029708,  0.07928716,\n",
       "         -0.52480686,  0.12829842,  1.        ]]), array([[[ -1.41703136e-01],\n",
       "         [  6.53586115e+00]],\n",
       " \n",
       "        [[  1.04004450e-01],\n",
       "         [  5.94335432e+00]],\n",
       " \n",
       "        [[ -2.34567878e-01],\n",
       "         [  4.67620019e+00]],\n",
       " \n",
       "        [[ -5.90388044e-03],\n",
       "         [  1.72577449e+00]],\n",
       " \n",
       "        [[ -1.91436810e-01],\n",
       "         [  5.39852924e+00]],\n",
       " \n",
       "        [[ -1.49618246e-01],\n",
       "         [  5.99342064e+00]],\n",
       " \n",
       "        [[ -1.30056032e-01],\n",
       "         [  3.84838322e+00]],\n",
       " \n",
       "        [[ -1.11644811e-01],\n",
       "         [  9.28995113e-01]]]))"
      ]
     },
     "execution_count": 143,
     "metadata": {},
     "output_type": "execute_result"
    }
   ],
   "source": [
    "X = read_stocks('/home/nate/projects/stocks')\n",
    "cor_return_sigma(X, gauss_gp)"
   ]
  },
  {
   "cell_type": "code",
   "execution_count": null,
   "metadata": {
    "collapsed": true
   },
   "outputs": [],
   "source": []
  }
 ],
 "metadata": {
  "kernelspec": {
   "display_name": "Python 3",
   "language": "python",
   "name": "python3"
  },
  "language_info": {
   "codemirror_mode": {
    "name": "ipython",
    "version": 3
   },
   "file_extension": ".py",
   "mimetype": "text/x-python",
   "name": "python",
   "nbconvert_exporter": "python",
   "pygments_lexer": "ipython3",
   "version": "3.5.2"
  }
 },
 "nbformat": 4,
 "nbformat_minor": 0
}
