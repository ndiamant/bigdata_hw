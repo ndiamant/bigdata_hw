{
 "cells": [
  {
   "cell_type": "code",
   "execution_count": 87,
   "metadata": {
    "collapsed": false
   },
   "outputs": [],
   "source": [
    "import pandas as pd\n",
    "import numpy as np\n",
    "import matplotlib.pyplot as plt\n",
    "import glob\n",
    "%matplotlib inline\n",
    "import GPy\n",
    "import cvxpy"
   ]
  },
  {
   "cell_type": "code",
   "execution_count": 138,
   "metadata": {
    "collapsed": true
   },
   "outputs": [],
   "source": [
    "def gauss_gp(y, plot = False):\n",
    "    \"\"\"\n",
    "    y: np n x 1 array of input data\n",
    "    \"\"\"   \n",
    "    x = np.atleast_2d(np.linspace(0, y.shape[0] - 1, y.shape[0])).T\n",
    "    \n",
    "    # squared gaussian kernel\n",
    "    kernel  = GPy.kern.RBF(input_dim=1, variance=1., lengthscale=1.)\n",
    "\n",
    "    # initialize gaussian process\n",
    "    gp = GPy.models.GPRegression(x,y,kernel)\n",
    "    \n",
    "    # optimize gp\n",
    "    gp.optimize()\n",
    "  \n",
    "    # point to predict at\n",
    "    point = (x[-1] + 1).reshape(1, -1)\n",
    "    \n",
    "    # predict\n",
    "    pred, sigma = gp.predict(point)\n",
    "    \n",
    "    return_frac = pred / y[-1] - 1\n",
    "    \n",
    "    # plotting\n",
    "    if plot:\n",
    "        plt.plot(list(y) + [pred])\n",
    "    \n",
    "    # return sharpe\n",
    "    return return_frac[0,0], sigma"
   ]
  },
  {
   "cell_type": "code",
   "execution_count": 139,
   "metadata": {
    "collapsed": false
   },
   "outputs": [
    {
     "name": "stdout",
     "output_type": "stream",
     "text": [
      "()\n"
     ]
    },
    {
     "data": {
      "image/png": "[encoded data removed]",
      "text/plain": [
       "<matplotlib.figure.Figure at 0x7f9a47d246d8>"
      ]
     },
     "metadata": {},
     "output_type": "display_data"
    }
   ],
   "source": [
    "a = np.array([[1, 2, 2.1, 3, 5, 6,3 ,4]]).T\n",
    "R, cov = gauss_gp(a, True)\n",
    "print(R.shape)"
   ]
  },
  {
   "cell_type": "code",
   "execution_count": 140,
   "metadata": {
    "collapsed": false
   },
   "outputs": [],
   "source": [
    "def cov_return_sigma(X, sharpe_func):\n",
    "    \"\"\"\n",
    "    X: n x k numpy array of stocks\n",
    "    sharpe_func: function that takes an n x 1 array of input data and \n",
    "                 returns a tuple of return rate and std. deviation of \n",
    "                 that return rate\n",
    "    \"\"\"\n",
    "    \n",
    "    cov = np.cov(X)\n",
    "    \n",
    "    return_sigma = np.array([sharpe_func(X[i][:, np.newaxis]) for i in range(X.shape[0])])\n",
    "    \n",
    "    returns = return_sigma[:,0]\n",
    "    sigma = return_sigma[:,1]\n",
    "    \n",
    "    return cov, returns, sigma\n",
    "    "
   ]
  },
  {
   "cell_type": "code",
   "execution_count": 262,
   "metadata": {
    "collapsed": true
   },
   "outputs": [],
   "source": [
    "def read_stocks(dir_name):\n",
    "    \"\"\"\n",
    "    dir_name: string directory name\n",
    "    \n",
    "    returns: stocks as rows all concatenated to min. length\n",
    "    \n",
    "    Assumes stocks are csv's\n",
    "    \"\"\"\n",
    "    stock_files = glob.glob(dir_name + '/*.csv')\n",
    "    \n",
    "    labels = []\n",
    "    \n",
    "    X = []\n",
    "    min_len = 100000\n",
    "    \n",
    "    for stock in stock_files:\n",
    "        x = pd.read_csv(stock)['Adj Close'].as_matrix().astype(np.float64)\n",
    "        if x.shape[0] < min_len:\n",
    "            min_len = x.shape[0]\n",
    "        X.append(x)\n",
    "        labels.append(stock[len(dir_name) + 1:][0:-4])\n",
    "        \n",
    "    for i in range(len(X)):\n",
    "        X[i] = X[i][-min_len:]\n",
    "        \n",
    "    X = np.array(X)\n",
    "    \n",
    "    # lables\n",
    "    return labels, X[:,0:-1], X[:,-1]"
   ]
  },
  {
   "cell_type": "code",
   "execution_count": 221,
   "metadata": {
    "collapsed": false
   },
   "outputs": [],
   "source": [
    "def optimize_port(R, sigma, theta):\n",
    "    \"\"\"\n",
    "    cor: Nxk correlation matrix of stocks\n",
    "    returns: Nx1 return fraction matrix\n",
    "    sigma: Nx1 expected standard deviation on returns\n",
    "    \"\"\"\n",
    "    \n",
    "    w = cvxpy.Variable(R.shape[0])\n",
    "    \n",
    "    objective = cvxpy.Minimize(-theta * R.T @ w + (1 - theta) * cvxpy.quad_form(w, sigma))\n",
    "    \n",
    "    ones = np.ones(R.shape[0])\n",
    "    \n",
    "    constraints = [w >= 0, sum(w) == 1]\n",
    "    \n",
    "    problem = cvxpy.Problem(objective, constraints)\n",
    "    \n",
    "    result = problem.solve()\n",
    "    \n",
    "    return (w.value)\n",
    "    \n",
    "    "
   ]
  },
  {
   "cell_type": "code",
   "execution_count": 263,
   "metadata": {
    "collapsed": false
   },
   "outputs": [],
   "source": [
    "labels, X, y = read_stocks('/home/nate/Courses/bigdata/bigdata_hw/final_project/stock_data')\n",
    "\n",
    "cov, returns, sigma = cov_return_sigma(X, gauss_gp) \n",
    "\n",
    "cov += np.diag(sigma)\n",
    "    \n",
    "def is_pos_def(x):\n",
    "    return np.all(np.linalg.eigvals(x) > 0)\n",
    "\n"
   ]
  },
  {
   "cell_type": "code",
   "execution_count": 264,
   "metadata": {
    "collapsed": false
   },
   "outputs": [
    {
     "name": "stdout",
     "output_type": "stream",
     "text": [
      "['AMCN', 'ALQA', 'ALRM', 'AJX', 'AIXG', 'ALX', 'ALTY', 'AAAP', 'ALGN', 'ALEX', 'ALL', 'ALLY', 'AME', 'AJRD', 'ALOT', 'AMCO', 'ALDR', 'ALD', 'ALXA', 'ALOG', 'ALDW', 'ALTV', 'ALGT', 'AMCC', 'ALJ', 'ALLT', 'AAL', 'ALSK', 'ALIM', 'AKAM', 'ALDX', 'AJG', 'ALU', 'AMBC', 'ALN', 'AIY', 'ALK', 'ALXN', 'ALR', 'AKAO', 'AKTX', 'ALFA', 'AKER', 'AMD', 'AKR', 'ALTR', 'ALE', 'AL', 'AIW', 'AIT', 'AM', 'AMCX', 'AKRX', 'ALKS', 'AMAT', 'ALNY', 'AAMC', 'ALG', 'AMC', 'AA', 'AIV', 'AKS', 'AMDA', 'AMBA', 'AIZ', 'AMBR', 'AKP', 'AADR', 'AMBCW', 'A', 'ALCO', 'AAC', 'ALSN', 'AAME', 'AKBA', 'AMAG', 'ALV', 'ALB', 'ALLE', 'AKG']\n"
     ]
    }
   ],
   "source": [
    "print(labels)"
   ]
  },
  {
   "cell_type": "code",
   "execution_count": 224,
   "metadata": {
    "collapsed": false,
    "scrolled": true
   },
   "outputs": [
    {
     "data": {
      "text/plain": [
       "True"
      ]
     },
     "execution_count": 224,
     "metadata": {},
     "output_type": "execute_result"
    }
   ],
   "source": [
    "is_pos_def(cov)"
   ]
  },
  {
   "cell_type": "code",
   "execution_count": 265,
   "metadata": {
    "collapsed": false
   },
   "outputs": [],
   "source": [
    "opt = optimize_port(returns, cov, .5)"
   ]
  },
  {
   "cell_type": "code",
   "execution_count": 280,
   "metadata": {
    "collapsed": false
   },
   "outputs": [
    {
     "name": "stdout",
     "output_type": "stream",
     "text": [
      "[[ 0.02818033  0.03474898  0.46086769  0.00365392  0.22869644  0.24385263]] ['ALOT' 'ALLT' 'ALU' 'ALR' 'AKAO' 'AKP']\n"
     ]
    }
   ],
   "source": [
    "l = np.array(labels)[:,np.newaxis]\n",
    "\n",
    "choices = l[np.where(opt>.001)]\n",
    "\n",
    "weights = opt[opt>.001]\n",
    "\n",
    "weights /= np.sum(weights)\n",
    "\n",
    "print(weights, choices)"
   ]
  },
  {
   "cell_type": "code",
   "execution_count": 243,
   "metadata": {
    "collapsed": false
   },
   "outputs": [
    {
     "name": "stdout",
     "output_type": "stream",
     "text": [
      "[matrix([[  1.44602557e-09,   9.23360524e-10,   1.37899522e-10,\n",
      "           3.73753850e-10,   6.72986310e-10,   2.12959731e-11,\n",
      "           5.05072261e-10,   1.51048624e-10,   8.03896481e-11,\n",
      "           1.02175276e-10,   3.24830691e-10,   2.67848997e-10,\n",
      "           1.20559409e-10,   3.79398377e-10,   2.15243432e-02,\n",
      "           3.51874715e-10,   1.35334533e-10,   7.78861215e-10,\n",
      "           8.58857968e-10,   1.04306179e-10,   6.43144293e-10,\n",
      "           1.07928047e-09,   1.06934311e-11,   1.08560924e-09,\n",
      "           1.68778375e-10,   9.08108496e-09,   2.18994373e-10,\n",
      "           1.98251397e-09,   5.03108893e-10,   7.81090523e-11,\n",
      "           2.74096080e-10,   1.60564027e-10,   4.67870553e-01,\n",
      "           2.22661212e-10,   1.47323555e-08,   2.51339642e-09,\n",
      "           6.14825619e-11,   6.17062587e-11,   4.63136458e-04,\n",
      "           1.86882727e-01,   2.97841298e-10,   1.29513175e-02,\n",
      "           3.93450596e-10,   1.58201484e-09,   8.65126270e-10,\n",
      "           4.58367841e-10,   6.90891585e-10,   8.20075681e-11,\n",
      "           4.90175368e-10,   1.54826802e-10,   1.55691727e-10,\n",
      "           1.94461254e-10,   3.05022612e-10,   2.64528878e-11,\n",
      "           1.58963622e-09,   2.86155580e-11,   1.66690866e-03,\n",
      "           2.07359085e-10,   1.39880930e-10,   2.52313795e-10,\n",
      "           2.47108744e-09,   3.49501726e-10,   2.68439540e-09,\n",
      "           4.43044937e-11,   1.13002575e-10,   3.64553918e-09,\n",
      "           2.64744499e-01,   2.92258527e-10,   4.28855740e-10,\n",
      "           4.48533380e-10,   1.07999050e-10,   7.19752092e-10,\n",
      "           1.42800149e-10,   4.38964527e-02,   4.32093264e-10,\n",
      "           1.39884559e-10,   4.14283266e-11,   1.59978685e-10,\n",
      "           1.12239226e-10,   2.14012980e-09]])]\n"
     ]
    }
   ],
   "source": [
    "print(o)"
   ]
  },
  {
   "cell_type": "code",
   "execution_count": null,
   "metadata": {
    "collapsed": true
   },
   "outputs": [],
   "source": []
  }
 ],
 "metadata": {
  "kernelspec": {
   "display_name": "Python 3",
   "language": "python",
   "name": "python3"
  },
  "language_info": {
   "codemirror_mode": {
    "name": "ipython",
    "version": 3
   },
   "file_extension": ".py",
   "mimetype": "text/x-python",
   "name": "python",
   "nbconvert_exporter": "python",
   "pygments_lexer": "ipython3",
   "version": "3.5.2"
  }
 },
 "nbformat": 4,
 "nbformat_minor": 0
}
