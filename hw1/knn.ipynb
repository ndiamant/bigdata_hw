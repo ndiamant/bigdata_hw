{
 "cells": [
  {
   "cell_type": "code",
   "execution_count": 44,
   "metadata": {
    "collapsed": false
   },
   "outputs": [],
   "source": [
    "import numpy as np\n",
    "import pandas as pd\n",
    "import matplotlib.pylab as plt\n",
    "from scipy import stats\n",
    "%matplotlib inline"
   ]
  },
  {
   "cell_type": "code",
   "execution_count": 69,
   "metadata": {
    "collapsed": false
   },
   "outputs": [
    {
     "name": "stdout",
     "output_type": "stream",
     "text": [
      "(59999, 784) (59999,)\n",
      "(9999, 784) (9999,)\n"
     ]
    }
   ],
   "source": [
    "X = []\n",
    "y = []\n",
    "trdata = pd.read_csv('mnist_train.csv', sep=',', engine='python')\n",
    "tstdata = pd.read_csv('mnist_test.csv', sep=',', engine='python')\n",
    "\n",
    "X = trdata.as_matrix()\n",
    "X = X.astype(np.float)\n",
    "y = X[:,0]\n",
    "X = X[:,1:]\n",
    "print(X.shape, y.shape)\n",
    "\n",
    "# test data\n",
    "Xt = tstdata.as_matrix()\n",
    "Xt = Xt.astype(np.float)\n",
    "yt = Xt[:,0]\n",
    "Xt = Xt[:,1:]\n",
    "print(Xt.shape, yt.shape)"
   ]
  },
  {
   "cell_type": "markdown",
   "metadata": {},
   "source": [
    "# Reduce Data"
   ]
  },
  {
   "cell_type": "code",
   "execution_count": 70,
   "metadata": {
    "collapsed": false
   },
   "outputs": [],
   "source": [
    "batchsize = 3000\n",
    "\n",
    "usedinds = np.random.randint(X.shape[0], size = batchsize)\n",
    "\n",
    "X = X[usedinds,:]\n",
    "y = y[usedinds]\n",
    "\n",
    "usedinds = np.random.randint(Xt.shape[0], size = batchsize)\n",
    "\n",
    "Xt = Xt[usedinds,:]\n",
    "yt = yt[usedinds]"
   ]
  },
  {
   "cell_type": "code",
   "execution_count": 75,
   "metadata": {
    "collapsed": true
   },
   "outputs": [],
   "source": [
    "def knn(k):\n",
    "    prediction = np.zeros(X.shape[0])\n",
    "    for i in range(Xt.shape[0]):\n",
    "        point = Xt[i]\n",
    "        dists = np.linalg.norm(X - point[:,np.newaxis].T, axis=1)\n",
    "        smallestdistindices = np.argpartition(dists, k)[k]\n",
    "        prediction[i] = stats.mode(y[smallestdistindices])[0]\n",
    "            \n",
    "    return prediction  "
   ]
  },
  {
   "cell_type": "code",
   "execution_count": 72,
   "metadata": {
    "collapsed": false
   },
   "outputs": [],
   "source": [
    "def accuracy(ypred, yreal):\n",
    "    correct = 0\n",
    "    for pred,real in zip(ypred, yreal):\n",
    "        correct += int(pred == real)\n",
    "    return correct / y.shape[0]"
   ]
  },
  {
   "cell_type": "code",
   "execution_count": 76,
   "metadata": {
    "collapsed": false
   },
   "outputs": [
    {
     "name": "stdout",
     "output_type": "stream",
     "text": [
      "0.897 0.829 0.7833333333333333\n"
     ]
    }
   ],
   "source": [
    "print(accuracy(knn(1), yt), accuracy(knn(5), yt), accuracy(knn(10), yt))"
   ]
  },
  {
   "cell_type": "code",
   "execution_count": null,
   "metadata": {
    "collapsed": true
   },
   "outputs": [],
   "source": []
  }
 ],
 "metadata": {
  "kernelspec": {
   "display_name": "Python 3",
   "language": "python",
   "name": "python3"
  },
  "language_info": {
   "codemirror_mode": {
    "name": "ipython",
    "version": 3
   },
   "file_extension": ".py",
   "mimetype": "text/x-python",
   "name": "python",
   "nbconvert_exporter": "python",
   "pygments_lexer": "ipython3",
   "version": "3.5.2"
  }
 },
 "nbformat": 4,
 "nbformat_minor": 0
}
