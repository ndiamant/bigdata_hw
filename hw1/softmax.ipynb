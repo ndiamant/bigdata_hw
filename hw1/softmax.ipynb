{
 "cells": [
  {
   "cell_type": "code",
   "execution_count": 53,
   "metadata": {
    "collapsed": false
   },
   "outputs": [],
   "source": [
    "# set up and import libraries\n",
    "import scipy\n",
    "import time\n",
    "import numpy as np\n",
    "import matplotlib.pyplot as plt\n",
    "import random\n",
    "import pandas as pd\n",
    "%matplotlib inline\n",
    "dot = np.dot\n",
    "randn = np.random.randn\n",
    "norm = np.linalg.norm\n",
    "exp = np.exp\n",
    "binom = np.random.binomial\n",
    "ln = np.log\n",
    "choose = np.random.choice"
   ]
  },
  {
   "cell_type": "code",
   "execution_count": 54,
   "metadata": {
    "collapsed": false
   },
   "outputs": [
    {
     "name": "stdout",
     "output_type": "stream",
     "text": [
      "(59999, 784) (59999,)\n",
      "(9999, 784) (9999,)\n"
     ]
    }
   ],
   "source": [
    "X = []\n",
    "y = []\n",
    "trdata = pd.read_csv('mnist_train.csv', sep=',', engine='python')\n",
    "tstdata = pd.read_csv('mnist_test.csv', sep=',', engine='python')\n",
    "\n",
    "X = trdata.as_matrix()\n",
    "X = X.astype(np.float)\n",
    "y = X[:,0]\n",
    "X = X[:,1:]\n",
    "print(X.shape, y.shape)\n",
    "\n",
    "Xt = tstdata.as_matrix()\n",
    "Xt = Xt.astype(np.float)\n",
    "yt = Xt[:,0]\n",
    "Xt = Xt[:,1:]\n",
    "print(Xt.shape, yt.shape)"
   ]
  },
  {
   "cell_type": "markdown",
   "metadata": {},
   "source": [
    "# Normalize X"
   ]
  },
  {
   "cell_type": "code",
   "execution_count": 55,
   "metadata": {
    "collapsed": false
   },
   "outputs": [],
   "source": [
    "rownorms = np.linalg.norm(X,axis=1)\n",
    "X = X / rownorms[:, np.newaxis]\n",
    "\n",
    "rownorms = np.linalg.norm(Xt,axis=1)\n",
    "Xt = Xt / rownorms[:, np.newaxis]"
   ]
  },
  {
   "cell_type": "markdown",
   "metadata": {},
   "source": [
    "# Convert y to One-Hot Encoding"
   ]
  },
  {
   "cell_type": "code",
   "execution_count": 56,
   "metadata": {
    "collapsed": false
   },
   "outputs": [
    {
     "name": "stderr",
     "output_type": "stream",
     "text": [
      "/home/nate/.local/lib/python3.5/site-packages/ipykernel/__main__.py:3: VisibleDeprecationWarning: using a non-integer number instead of an integer will result in an error in the future\n",
      "  app.launch_new_instance()\n"
     ]
    }
   ],
   "source": [
    "def numtovec(digit):\n",
    "    vec = np.zeros(10)\n",
    "    vec[digit] = 1\n",
    "    return np.array(vec)\n",
    "\n",
    "def onehot(ydig):\n",
    "    ynew = np.zeros((ydig.shape[0], 10))\n",
    "    for i in range(ydig.shape[0]):\n",
    "        ynew[i] = numtovec(ydig[i])\n",
    "    return ynew\n",
    "\n",
    "y = onehot(y)\n",
    "yt = onehot(yt)"
   ]
  },
  {
   "cell_type": "markdown",
   "metadata": {},
   "source": [
    "## The shape of weights is:\n",
    "$$ \\begin{bmatrix}\n",
    "\\\\-\\theta_1-\n",
    "\\\\ -\\theta_2-\n",
    "\\\\ \\vdots\n",
    "\\\\ -\\theta_H-\n",
    "\\end{bmatrix}\n",
    "$$\n",
    "Where $H=\\text{number of classes}$ and $\\theta$ has dimension $dim$"
   ]
  },
  {
   "cell_type": "code",
   "execution_count": 57,
   "metadata": {
    "collapsed": false
   },
   "outputs": [],
   "source": [
    "# introduce softmax function\n",
    "def normalize(weights, xVec):\n",
    "    return sum(exp(dot(weights, xVec)))\n",
    "\n",
    "def smax(weights, xVec):\n",
    "    return exp(dot(weights, xVec) / ln(normalize(weights, xVec)))\n",
    "\n",
    "def predict(weights, x):\n",
    "    return np.array(list(map(lambda xVec: smax(weights, xVec), x)))\n",
    "\n",
    "def genClass(probVec):\n",
    "    out = np.zeros(probVec.shape[0])\n",
    "    out[choose(classes, p = probVec)] = 1\n",
    "    return out"
   ]
  },
  {
   "cell_type": "code",
   "execution_count": 58,
   "metadata": {
    "collapsed": true
   },
   "outputs": [],
   "source": [
    "# introduce cost function\n",
    "def cost(weights, x ,y):\n",
    "    cost = 0\n",
    "    for xVec, yVec in zip(x,y):\n",
    "        for j in range(weights.shape[0]):\n",
    "            if yVec[j] == 1:\n",
    "                cost -= dot(weights[j],xVec) - ln(normalize(weights, xVec))\n",
    "    if cost == np.inf:\n",
    "        return sys.float_info.max\n",
    "    return cost"
   ]
  },
  {
   "cell_type": "code",
   "execution_count": 59,
   "metadata": {
    "collapsed": false
   },
   "outputs": [],
   "source": [
    "# introduce gradient function\n",
    "def gradient(weights, x, y, batchSize, reg = 0):\n",
    "    grad = np.zeros(weights.shape)\n",
    "    for j in range(weights.shape[0]):\n",
    "        usedIndices = np.random.randint(x.shape[0], size = batchSize)\n",
    "        for xVec,yVec in zip(x[usedIndices,:], y[usedIndices,:]):\n",
    "            grad[j] -= xVec * (yVec[j] - smax(weights, xVec)[j])\n",
    "    return (grad + reg * weights) / x.shape[0]"
   ]
  },
  {
   "cell_type": "code",
   "execution_count": 60,
   "metadata": {
    "collapsed": false
   },
   "outputs": [],
   "source": [
    "# gradient descent\n",
    "def gradDescent(x, y, learningRate, numits, batchSize, reg = 0):\n",
    "    weights = randn(y.shape[1], x.shape[1])\n",
    "    for i in range(numits):\n",
    "        grad = gradient(weights, x, y, batchSize, reg)\n",
    "        weights -= learningRate * grad\n",
    "    return weights"
   ]
  },
  {
   "cell_type": "code",
   "execution_count": 61,
   "metadata": {
    "collapsed": false,
    "scrolled": true
   },
   "outputs": [
    {
     "name": "stdout",
     "output_type": "stream",
     "text": [
      "Done\n"
     ]
    }
   ],
   "source": [
    "smallX = X[:,0:1000]\n",
    "smally = y[:,0:1000]\n",
    "\n",
    "\n",
    "def correctPercent(weights, x, y):\n",
    "    correct = 0\n",
    "    predictions = predict(weights,x)\n",
    "    for xVec,yVec in zip(predictions,y):\n",
    "        if np.where(xVec==max(xVec)) == np.where(yVec == 1):\n",
    "            correct += 1\n",
    "    return correct*100.0/x.shape[0]\n",
    "\n",
    "accs = []\n",
    "regs = np.linspace(0,100,10)\n",
    "%timeit\n",
    "for reg in regs:\n",
    "    weights = gradDescent(smallX, smally, 100, 1, 10, reg) # x, y, learningRate, numits, batchSize, reg\n",
    "    accs += [correctPercent(weights,Xt,yt)]\n",
    "    \n",
    "print('Done')"
   ]
  },
  {
   "cell_type": "code",
   "execution_count": 62,
   "metadata": {
    "collapsed": false
   },
   "outputs": [
    {
     "data": {
      "text/plain": [
       "<matplotlib.text.Text at 0x7f327effaf60>"
      ]
     },
     "execution_count": 62,
     "metadata": {},
     "output_type": "execute_result"
    },
    {
     "data": {
      "image/png": "[encoded data removed]",
      "text/plain": [
       "<matplotlib.figure.Figure at 0x7f32482f6b70>"
      ]
     },
     "metadata": {},
     "output_type": "display_data"
    }
   ],
   "source": [
    "plt.figure(figsize = (15,10))\n",
    "plt.plot(regs,accs)\n",
    "plt.title(\"Regularization Constant vs. Accuracy\")\n",
    "plt.xlabel(\"Regularization Constant\")\n",
    "plt.ylabel(\"Accuracy (%)\")"
   ]
  }
 ],
 "metadata": {
  "kernelspec": {
   "display_name": "Python 3",
   "language": "python",
   "name": "python3"
  },
  "language_info": {
   "codemirror_mode": {
    "name": "ipython",
    "version": 3
   },
   "file_extension": ".py",
   "mimetype": "text/x-python",
   "name": "python",
   "nbconvert_exporter": "python",
   "pygments_lexer": "ipython3",
   "version": "3.5.2"
  }
 },
 "nbformat": 4,
 "nbformat_minor": 0
}
