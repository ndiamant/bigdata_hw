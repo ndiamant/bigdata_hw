{
 "cells": [
  {
   "cell_type": "code",
   "execution_count": 3,
   "metadata": {
    "collapsed": true
   },
   "outputs": [],
   "source": [
    "import numpy as np\n",
    "import pandas as pd\n",
    "import matplotlib.pylab as plt\n",
    "from scipy import sparse\n",
    "%matplotlib inline\n",
    "plt.style.use('ggplot')"
   ]
  },
  {
   "cell_type": "code",
   "execution_count": 4,
   "metadata": {
    "collapsed": false
   },
   "outputs": [],
   "source": [
    "red_data = pd.read_csv(\"https://archive.ics.uci.edu/ml/machine-learning-databases/wine-quality/winequality-red.csv\", \n",
    "                       sep = ';')\n",
    "white_data = pd.read_csv(\"https://archive.ics.uci.edu/ml/machine-learning-databases/wine-quality/winequality-white.csv\",\n",
    "                        sep = ';')      "
   ]
  },
  {
   "cell_type": "code",
   "execution_count": 5,
   "metadata": {
    "collapsed": false
   },
   "outputs": [
    {
     "name": "stdout",
     "output_type": "stream",
     "text": [
      "(1599, 12) (4898, 12) (6497, 12) (6497, 1)\n"
     ]
    }
   ],
   "source": [
    "red = red_data.values\n",
    "white = white_data.values\n",
    "X = np.vstack((red, white))\n",
    "y = np.zeros((red.shape[0], 1))\n",
    "y = np.vstack((y, np.ones((white.shape[0], 1))))\n",
    "\n",
    "print(red.shape, white.shape, X.shape, y.shape)"
   ]
  },
  {
   "cell_type": "code",
   "execution_count": 6,
   "metadata": {
    "collapsed": false
   },
   "outputs": [
    {
     "data": {
      "text/plain": [
       "<matplotlib.collections.PathCollection at 0x7fe47f79d828>"
      ]
     },
     "execution_count": 6,
     "metadata": {},
     "output_type": "execute_result"
    },
    {
     "data": {
      "image/png": "[encoded data removed]",
      "text/plain": [
       "<matplotlib.figure.Figure at 0x7fe4817a74e0>"
      ]
     },
     "metadata": {},
     "output_type": "display_data"
    }
   ],
   "source": [
    "plt.scatter(red[:,8], red[:,1], c = 'red')\n",
    "plt.scatter(white[:,8], white[:,1], c = 'white')"
   ]
  },
  {
   "cell_type": "markdown",
   "metadata": {},
   "source": [
    "# E-step\n",
    "\n",
    "X: input data\n",
    "\n",
    "pi_ks: previous step's $\\pi_{k}$ in column vector\n",
    "\n",
    "theta_ks: previous step's $\\vec{\\theta}_k$ in array\n",
    "\n",
    "prob_func: takes a row of theta_k and calculates $p(\\vec{x}_i | \\vec{\\theta}_k\n",
    "\n",
    "\n",
    "\n",
    "\n",
    "Returns: $r_{ik}$ in a matrix"
   ]
  },
  {
   "cell_type": "code",
   "execution_count": 7,
   "metadata": {
    "collapsed": false
   },
   "outputs": [],
   "source": [
    "def E_step(X, pi_ks, theta_ks, prob_func):\n",
    "    r_iks = np.zeros((X.shape[0], pi_ks.shape[0]))\n",
    "    \n",
    "    norm_term = 0\n",
    "    for i in range(X.shape[0]):\n",
    "        for j in range(pi_ks.shape[0]):\n",
    "            norm_term += prob_func(X[i], theta_ks[k])\n",
    "    \n",
    "    for i in range(X.shape[0]):\n",
    "        for j in range(pi_ks.shape[0]):\n",
    "            numerator = pi_ks[k] * prob_func(X[i], theta_ks[k])\n",
    "            denom = norm_term - numerator\n",
    "            r_iks[i,j] = numerator / denom\n",
    "            \n",
    "    return r_iks"
   ]
  },
  {
   "cell_type": "markdown",
   "metadata": {},
   "source": [
    "# M-step\n",
    "\n",
    "X:input data\n",
    "\n",
    "r_iks: $r_{ik}$  in a matrix\n",
    "\n",
    "S_0: Covariance regularization matrix\n",
    "\n",
    "nu_0: how strongly we believe the prior\n",
    "\n",
    "k_0: regularization of $\\mu_k$, default to $0$"
   ]
  },
  {
   "cell_type": "code",
   "execution_count": 17,
   "metadata": {
    "collapsed": false
   },
   "outputs": [],
   "source": [
    "def M_step(x, r_iks, S_0, nu_0, k_0 = 0):\n",
    "    r_ks = np.sum(r_iks, axis = 1)\n",
    "    x_bar_ks = np.zeros((r_iks.shape[0], X.shape[1]))\n",
    "    for k in range(r_iks.shape[0]):\n",
    "        x_bar_ks = (X.T @ r_iks[:,k]) / r_ks[k]\n",
    "    \n",
    "    "
   ]
  },
  {
   "cell_type": "code",
   "execution_count": 21,
   "metadata": {
    "collapsed": false
   },
   "outputs": [
    {
     "data": {
      "text/plain": [
       "array([ 4.,  5.,  6.])"
      ]
     },
     "execution_count": 21,
     "metadata": {},
     "output_type": "execute_result"
    }
   ],
   "source": [
    "a = np.array([4,5,6])\n",
    "a.T\n",
    "np.eye(3) @ a.T\n"
   ]
  },
  {
   "cell_type": "code",
   "execution_count": null,
   "metadata": {
    "collapsed": true
   },
   "outputs": [],
   "source": []
  }
 ],
 "metadata": {
  "kernelspec": {
   "display_name": "Python 3",
   "language": "python",
   "name": "python3"
  },
  "language_info": {
   "codemirror_mode": {
    "name": "ipython",
    "version": 3
   },
   "file_extension": ".py",
   "mimetype": "text/x-python",
   "name": "python",
   "nbconvert_exporter": "python",
   "pygments_lexer": "ipython3",
   "version": "3.5.2"
  }
 },
 "nbformat": 4,
 "nbformat_minor": 0
}
