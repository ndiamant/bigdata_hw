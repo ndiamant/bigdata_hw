{
 "cells": [
  {
   "cell_type": "code",
   "execution_count": 3,
   "metadata": {
    "collapsed": true
   },
   "outputs": [],
   "source": [
    "import numpy as np\n",
    "import pandas as pd\n",
    "import matplotlib.pylab as plt\n",
    "from scipy import stats\n",
    "from sklearn import metrics\n",
    "%matplotlib inline\n",
    "plt.style.use('ggplot')"
   ]
  },
  {
   "cell_type": "code",
   "execution_count": 4,
   "metadata": {
    "collapsed": false
   },
   "outputs": [
    {
     "name": "stdout",
     "output_type": "stream",
     "text": [
      "(59999, 784) (59999,)\n",
      "(9999, 784) (9999,)\n"
     ]
    }
   ],
   "source": [
    "X = []\n",
    "y = []\n",
    "trdata = pd.read_csv('mnist_train.csv', sep=',', engine='python')\n",
    "tstdata = pd.read_csv('mnist_test.csv', sep=',', engine='python')\n",
    "\n",
    "X = trdata.as_matrix()\n",
    "X = X.astype(np.float)\n",
    "y = X[:,0]\n",
    "X = X[:,1:]\n",
    "print(X.shape, y.shape)\n",
    "\n",
    "Xt = tstdata.as_matrix()\n",
    "Xt = Xt.astype(np.float)\n",
    "yt = Xt[:,0]\n",
    "Xt = Xt[:,1:]\n",
    "print(Xt.shape, yt.shape)"
   ]
  },
  {
   "cell_type": "code",
   "execution_count": 5,
   "metadata": {
    "collapsed": true
   },
   "outputs": [],
   "source": [
    "rownorms = np.linalg.norm(X,axis=1)\n",
    "X = X / rownorms[:, np.newaxis]\n",
    "\n",
    "rownorms = np.linalg.norm(Xt,axis=1)\n",
    "Xt = Xt / rownorms[:, np.newaxis]"
   ]
  },
  {
   "cell_type": "code",
   "execution_count": 59,
   "metadata": {
    "collapsed": true
   },
   "outputs": [],
   "source": [
    "# Creds to Conner's implementation for inspiration of general EM function\n",
    "def EM(X, theta, k, M_step_func, iters, likelihood_func, objective_func):\n",
    "    r_ik = 1. / k * np.ones((X.shape[0], k)) # uniform initial responsibility\n",
    "    \n",
    "    pi = 1. / k * np.ones(k)\n",
    "    \n",
    "    objectives = [objective_func(X ,r_ik , pi, theta)]\n",
    "    \n",
    "    for i in range(iters):\n",
    "        \n",
    "        # E-step, find r_ik from previous theta and pi      \n",
    "        r_ik_numer = likelihood_func(X, theta) * pi\n",
    "        \n",
    "        # not sure if denominator is right, because should be sum over k'\n",
    "        # still good approximation because will be relatively small?\n",
    "        r_ik_denom = r_ik.sum(axis = 1)\n",
    "        r_ik_denom = r_ik_denom.reshape(r_ik_denom.shape[0], 1)\n",
    "        \n",
    "        r_ik = r_ik_numer / r_ik_denom\n",
    "        r_ik /= r_ik.sum(axis = 1)[:, np.newaxis]\n",
    "        \n",
    "        # M-step\n",
    "        pi, theta = M_step_func(X, r_ik)\n",
    "        \n",
    "        objectives.append(objective_func(X ,r_ik , pi, theta))\n",
    "        \n",
    "    return objectives, r_ik, pi, theta"
   ]
  },
  {
   "cell_type": "code",
   "execution_count": 77,
   "metadata": {
    "collapsed": false
   },
   "outputs": [],
   "source": [
    "def bernoulli_mm(X, k, dir_alphas, alpha, beta, iters):\n",
    "    log_beta_pdf = lambda mean : np.log(stats.beta.pdf(mean, alpha, beta))\n",
    "    log_dirich_pdf = lambda pi: np.log(stats.dirichlet.pdf(pi, dir_alphas))\n",
    "\n",
    "    # pooled variance initial S_)\n",
    "    S_0 = np.diag(np.var(X, axis = 0)) * k**(1 / X.shape[1])\n",
    "    \n",
    "    # initially get random vects from X as means\n",
    "    mean = mean=X[np.random.randint(0, X.shape[0], (k,))]\n",
    "    \n",
    "    # initial theta\n",
    "    theta = mean\n",
    "    \n",
    "    def bern_likelihood(X, theta):\n",
    "        p = np.zeros((X.shape[0], k))       \n",
    "        for i in range(X.shape[0]):\n",
    "            mu = theta.copy()\n",
    "            mu.T[X[i] == 0] = 1 - mu.T[X[i] == 0]\n",
    "            mu = mu.prod(axis = 1)\n",
    "            p[i] = mu\n",
    "        return p\n",
    "    \n",
    "    def M_step(X, r):\n",
    "        r_k = r.sum(axis = 0)\n",
    "        pi = (r_k + dir_alphas - 1) / (X.shape[0] + dir_alphas.sum() - k)\n",
    "        \n",
    "        # creds to Conner for following line. Way cleaner than my loops and works\n",
    "        theta = ((X[:,:,np.newaxis] * r[:,np.newaxis,:]).sum(axis=0) / (r_k + alpha + beta - 2)).T\n",
    "        \n",
    "        return pi, theta\n",
    "    \n",
    "    def objective(X, r, pi, theta):\n",
    "        '''\n",
    "        More props to Conner.\n",
    "        '''        \n",
    "        log_prior = log_beta_pdf(theta).sum() + log_dirich_pdf(pi)\n",
    "        \n",
    "        pi_term = (r * np.log(pi)[np.newaxis,:]).sum()\n",
    "        \n",
    "        likelihood_term = r * np.log(bern_likelihood(X, theta))\n",
    "        likelihood_term = likelihood_term[r > 1e-12].sum()\n",
    "        \n",
    "        print(log_prior, likelihood_term, pi_term)\n",
    "        return likelihood_term + pi_term + log_prior\n",
    "    \n",
    "    return EM(X, theta, k, M_step, iters, bern_likelihood, objective)"
   ]
  },
  {
   "cell_type": "code",
   "execution_count": 76,
   "metadata": {
    "collapsed": false
   },
   "outputs": [
    {
     "name": "stderr",
     "output_type": "stream",
     "text": [
      "/home/nate/.local/lib/python3.5/site-packages/ipykernel/__main__.py:9: VisibleDeprecationWarning: using a non-integer number instead of an integer will result in an error in the future\n",
      "/usr/local/lib/python3.5/dist-packages/numpy/core/numeric.py:190: VisibleDeprecationWarning: using a non-integer number instead of an integer will result in an error in the future\n",
      "  a = empty(shape, dtype, order)\n",
      "/home/nate/.local/lib/python3.5/site-packages/ipykernel/__main__.py:15: VisibleDeprecationWarning: using a non-integer number instead of an integer will result in an error in the future\n"
     ]
    },
    {
     "name": "stdout",
     "output_type": "stream",
     "text": [
      "12.8018274801 -inf 0\n",
      "nan nan 0\n",
      "nan 0.0 0\n",
      "nan 0.0 0\n",
      "nan 0.0 0\n",
      "nan 0.0 0\n",
      "nan 0.0 0\n",
      "nan 0.0 0\n",
      "nan 0.0 0\n",
      "nan 0.0 0\n",
      "nan 0.0 0\n"
     ]
    }
   ],
   "source": [
    "X1 = X[0:1000, :]\n",
    "obj, r, pi, theta = bernoulli_mm(X1, k, dir_alphas=np.ones(10), alpha=1,beta=1,iters=10)"
   ]
  },
  {
   "cell_type": "code",
   "execution_count": 70,
   "metadata": {
    "collapsed": false
   },
   "outputs": [
    {
     "name": "stdout",
     "output_type": "stream",
     "text": [
      "[-inf, nan, nan, nan, nan, nan, nan, nan, nan, nan, nan]\n"
     ]
    },
    {
     "data": {
      "image/png": "[encoded data removed]",
      "text/plain": [
       "<matplotlib.figure.Figure at 0x7fe83af2bf28>"
      ]
     },
     "metadata": {},
     "output_type": "display_data"
    }
   ],
   "source": [
    "plt.plot(obj)\n",
    "print(obj)"
   ]
  },
  {
   "cell_type": "code",
   "execution_count": null,
   "metadata": {
    "collapsed": true
   },
   "outputs": [],
   "source": []
  }
 ],
 "metadata": {
  "kernelspec": {
   "display_name": "Python 3",
   "language": "python",
   "name": "python3"
  },
  "language_info": {
   "codemirror_mode": {
    "name": "ipython",
    "version": 3
   },
   "file_extension": ".py",
   "mimetype": "text/x-python",
   "name": "python",
   "nbconvert_exporter": "python",
   "pygments_lexer": "ipython3",
   "version": "3.5.2"
  }
 },
 "nbformat": 4,
 "nbformat_minor": 0
}
